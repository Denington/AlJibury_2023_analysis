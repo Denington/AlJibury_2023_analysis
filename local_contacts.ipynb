{
 "cells": [
  {
   "cell_type": "code",
   "execution_count": 289,
   "metadata": {},
   "outputs": [],
   "source": [
    "import straw\n",
    "import pandas as pd \n",
    "import numpy as np"
   ]
  },
  {
   "cell_type": "code",
   "execution_count": 290,
   "metadata": {},
   "outputs": [],
   "source": [
    "filename = \"CD69negDPWTR2\"#\"CD69posCD4SPWTR1\" #CD69negDPWTR1\n",
    "path_save=\"/Users/ealjibur/OneDrive - Imperial College London/HiC/Hic_ya/\"\n",
    "path_to_hic=path_save+filename+\".hic\"\n",
    "path_to_ABwig=\"~/downloads/\"+filename+\"_eigenvector_100kb.wig\"\n",
    "\n",
    "#path_to_ABwig is path to eigen vector, we expect that the eigenvector \n",
    "#is positive in A comp ad negative in B so it may need to be reorientated"
   ]
  },
  {
   "cell_type": "code",
   "execution_count": 291,
   "metadata": {},
   "outputs": [],
   "source": [
    "#parameters \n",
    "Range, resolution =100000, 5000\n",
    "AB_res = 100000"
   ]
  },
  {
   "cell_type": "code",
   "execution_count": 292,
   "metadata": {},
   "outputs": [
    {
     "name": "stdout",
     "output_type": "stream",
     "text": [
      "HiC version:  8\n"
     ]
    }
   ],
   "source": [
    "#initialising Hi-C file ad chromosome dictionary.\n",
    "HiC_Matrix = straw.straw(path_to_hic)\n",
    "chrDict = HiC_Matrix.chromDotSizes.data\n",
    "chrDict.pop(\"All\")\n",
    "chrDict.pop(\"chrM\")\n",
    "\n",
    "#loading A/B file and initialising an index for merging \n",
    "AB_file = pd.read_csv(path_to_ABwig, skiprows=1,sep='\\t',names=[\"chr\",\"start\",\"end\",\"score\"])\n",
    "AB_file[\"x\"]= (AB_file.start-1)/5000 #"
   ]
  },
  {
   "cell_type": "code",
   "execution_count": 293,
   "metadata": {},
   "outputs": [],
   "source": [
    "All_chroms = pd.DataFrame({\"Chromosome\":pd.Series([], dtype='str'),\n",
    "                           \"Start\":pd.Series([], dtype='int'),\n",
    "                           \"End\":pd.Series([], dtype='int'), \n",
    "                           \"values\":pd.Series([], dtype='float')})\n",
    "contacts = 0 \n",
    "\n",
    "for chromosome in chrDict.keys():\n",
    "    #get chromosome information from HiC\n",
    "    norm_hic= HiC_Matrix.getNormalizedMatrix(chromosome,chromosome, \"KR\", \"BP\",resolution)\n",
    "    xpos, ypos, vals = norm_hic.getDataFromGenomeRegion(0,chrDict[chromosome][1], 0,chrDict[chromosome][1])\n",
    "    curr = pd.DataFrame({\"x\":xpos, \"y\": ypos, \"values\": vals}) \n",
    "    contacts+= curr[\"values\"].sum()\n",
    "\n",
    "    #filter outside of local range \n",
    "    curr= curr[resolution*np.abs(curr.x-curr.y)<=Range] \n",
    "\n",
    "    #mirror x and y to make fully symetric matrix \n",
    "    curr1 =curr.copy()\n",
    "    curr1.rename(columns={\"x\": \"y\", \"y\": \"x\"}, inplace=True)\n",
    "    curr=pd.concat([curr1,curr])\n",
    "    curr.drop(columns=[\"y\"], inplace=True)\n",
    "\n",
    "    #sum together local contacts \n",
    "    curr=curr.groupby(\"x\").sum()\n",
    "    curr.reset_index(inplace=True)\n",
    "\n",
    "    #get normalisation from AB\n",
    "    curr[\"floorx\"]=int(AB_res/resolution)*np.floor(curr[\"x\"]/int(AB_res/resolution)) #this is just for merging with A/B wig \n",
    "    joinedwithAB = curr.merge(AB_file[AB_file.chr==chromosome], right_on=\"x\", left_on=\"floorx\",  how=\"left\")\n",
    "    chromosome_norm = joinedwithAB[np.sign(joinedwithAB.score)==-1][\"values\"].mean()\n",
    "\n",
    "    #normalise\n",
    "    curr[\"values\"] = curr[\"values\"]-chromosome_norm\n",
    "    curr[\"values\"] = curr[\"values\"].rolling(3).mean()\n",
    "\n",
    "    #clean matrix\n",
    "    curr[\"x\"] = resolution*curr[\"x\"]+1\n",
    "    curr[\"Chromosome\"]=chromosome\n",
    "    curr.rename(columns={\"x\": \"Start\"}, inplace=True)\n",
    "    curr.drop(columns=[\"floorx\"],inplace=True)\n",
    "    curr[\"End\"]=curr.Start+resolution-1\n",
    "    \n",
    "    #add to pandasas array containing full list \n",
    "    All_chroms = All_chroms.append(curr, ignore_index=True)"
   ]
  },
  {
   "cell_type": "code",
   "execution_count": 294,
   "metadata": {},
   "outputs": [],
   "source": [
    "#save \n",
    "All_chroms[\"values\"] = All_chroms[\"values\"]*1e6/contacts\n",
    "All_chroms[[\"Chromosome\",\"Start\",\"End\", \"values\"]].to_csv(filename+\".wig\", sep='\\t',header=False, index=False)"
   ]
  },
  {
   "cell_type": "code",
   "execution_count": null,
   "metadata": {},
   "outputs": [],
   "source": []
  }
 ],
 "metadata": {
  "kernelspec": {
   "display_name": "Python 3 (ipykernel)",
   "language": "python",
   "name": "python3"
  },
  "language_info": {
   "codemirror_mode": {
    "name": "ipython",
    "version": 3
   },
   "file_extension": ".py",
   "mimetype": "text/x-python",
   "name": "python",
   "nbconvert_exporter": "python",
   "pygments_lexer": "ipython3",
   "version": "3.9.12"
  }
 },
 "nbformat": 4,
 "nbformat_minor": 4
}
